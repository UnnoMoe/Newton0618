{
  "nbformat": 4,
  "nbformat_minor": 0,
    },
    "kernelspec": {
      "name": "python3",
      "display_name": "Python 3"
    }
  },
  "cells": [
    {
      "cell_type": "markdown",
      "metadata": {
        "id": "view-in-github",
        "colab_type": "text"
      },
      "source": [
        "<a href=\"https://colab.research.google.com/github/UnnoMoe/Newton0618/blob/master/Newton0617.ipynb\" target=\"_parent\"><img src=\"https://colab.research.google.com/assets/colab-badge.svg\" alt=\"Open In Colab\"/></a>"
      ]
    },
    {
      "cell_type": "markdown",
      "metadata": {
        "id": "r1VDk8TUBoyT",
        "colab_type": "text"
      },
      "source": [
        "# ニュートン法で近似根を求める(Python)\n",
        "2020.06.18 <br>\n",
        "unno"
      ]
    },
    {
      "cell_type": "code",
      "metadata": {
        "id": "l8tWBVkrxdCE",
        "colab_type": "code",
        "colab": {
          "base_uri": "https://localhost:8080/",
          "height": 187
        },
        "outputId": "4c8d6c55-21c1-427a-8013-0839bb7acbc8"
      },
      "source": [
        "#ライブラリのインポート\n",
        "import numpy as np\n",
        "import math\n",
        "\n",
        "# 誤差epsは10^(-6)とする\n",
        "eps = 10**(-6)\n",
        "# 繰り返し処理上限をcountとする\n",
        "count = 30\n",
        "#関数の定義\n",
        "def fx(x0):\n",
        "   return x0*math.log(x0) - 1\n",
        "def dfx(x0):\n",
        "   return math.log(x0) + 1\n",
        "def newton(fx, x0, i= 0, eps = 10**(-6), count = 30):\n",
        "  while i <= count:\n",
        "    dfx(x0)\n",
        "    #次の解を計算\n",
        "    x1 = x0 -fx(x0)/dfx(x0)\n",
        "    #誤差Δxの算出\n",
        "    dx = x0 - x1\n",
        "    #解を更新\n",
        "    x0 = x1\n",
        "    print(f'{i}回：x = {x0}, dx = {dx}')\n",
        "    \n",
        "    if i > count:\n",
        "      print('解は収束しませんでした')\n",
        "    elif abs(dx) < eps:\n",
        " \n",
        "      #最終的に得られた解\n",
        "      print('----------------------------')\n",
        "      print(f'誤差|dx| < εを満たし, 近似解 x = {x0}が求まる')\n",
        "      break\n",
        "    i += 1  #計算回数を数える\n",
        "  return x0\n",
        "\n",
        "if (__name__ == '__main__'):\n",
        "    #Newton法で非線型方程式の近似根を計算\n",
        "    print(f'誤差ε= {eps}, 繰り返し処理上限{count}回')\n",
        "    ans = newton(fx, 3)\n",
        "    \n",
        "!git remote add origin git@github.com:UnnoMoe/Newton0618.git\n",
        "!git push -u origin master"
      ],
      "execution_count": 192,
      "outputs": [
        {
          "output_type": "stream",
          "text": [
            "誤差ε= 1e-06, 繰り返し処理上限30回\n",
            "0回：x = 1.9060214321620177, dx = 1.0939785678379823\n",
            "1回：x = 1.7665589946643505, dx = 0.13946243749766718\n",
            "2回：x = 1.7632248433383328, dx = 0.0033341513260176647\n",
            "3回：x = 1.7632228343526268, dx = 2.008985706014599e-06\n",
            "4回：x = 1.7632228343518968, dx = 7.300826609935029e-13\n",
            "----------------------------\n",
            "誤差|dx| < εを満たし, 近似解 x = 1.7632228343518968が求まる\n",
            "fatal: not a git repository (or any of the parent directories): .git\n",
            "fatal: not a git repository (or any of the parent directories): .git\n"
          ],
          "name": "stdout"
        }
      ]
    },
    {
      "cell_type": "markdown",
      "metadata": {
        "id": "z15-SaACBZjj",
        "colab_type": "text"
      },
      "source": [
        "## 参考\n",
        "https://qiita.com/Sunset_Yuhi/items/b598ca0cb62b6c706a41 <br>\n",
        "https://qiita.com/popondeli/items/f67928e894c0fa8c3287 <br>\n",
        "https://qiita.com/Sunset_Yuhi/items/b598ca0cb62b6c706a41 <br>\n"
      ]
    }
  ]
}
